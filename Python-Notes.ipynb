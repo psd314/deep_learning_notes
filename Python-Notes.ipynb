{
 "cells": [
  {
   "cell_type": "code",
   "execution_count": 2,
   "metadata": {
    "collapsed": true
   },
   "outputs": [],
   "source": [
    "import numpy as np\n",
    "import math\n",
    "import time"
   ]
  },
  {
   "cell_type": "code",
   "execution_count": 3,
   "metadata": {},
   "outputs": [
    {
     "data": {
      "text/plain": [
       "7.3890560989306495"
      ]
     },
     "execution_count": 3,
     "metadata": {},
     "output_type": "execute_result"
    }
   ],
   "source": [
    "# e function, only can handle on exponent\n",
    "math.e**2"
   ]
  },
  {
   "cell_type": "code",
   "execution_count": 4,
   "metadata": {},
   "outputs": [
    {
     "name": "stdout",
     "output_type": "stream",
     "text": [
      "[[1 2 3 4 5]]\n",
      "(1, 5)\n"
     ]
    }
   ],
   "source": [
    "# np.array([[]])\n",
    "# use double [[]] to default to 2 dim array, otherwise will default to rank 1 array\n",
    "\n",
    "vector = np.array([[1,2,3,4,5]])\n",
    "print(vector)\n",
    "print(vector.shape)"
   ]
  },
  {
   "cell_type": "code",
   "execution_count": 41,
   "metadata": {},
   "outputs": [
    {
     "name": "stdout",
     "output_type": "stream",
     "text": [
      "np.exp(a)\n",
      "[   2.71828183    7.3890561    20.08553692   54.59815003  148.4131591 ] \n",
      "\n",
      "np.exp(y)\n",
      "[[   403.42879349   1096.63315843   2980.95798704   8103.08392758\n",
      "   22026.46579481]\n",
      " [   403.42879349   1096.63315843   2980.95798704   8103.08392758\n",
      "   22026.46579481]]\n"
     ]
    }
   ],
   "source": [
    "# np.exp() applies exponential operation e^x to an array or matrix \n",
    "\n",
    "a = np.array([1,2,3,4,5])\n",
    "y = np.array([[6,7,8,9,10], [6, 7, 8, 9, 10]])\n",
    "\n",
    "print(\"np.exp(a)\")\n",
    "print(np.exp(a), \"\\n\")\n",
    "print(\"np.exp(y)\")\n",
    "print(np.exp(y))"
   ]
  },
  {
   "cell_type": "code",
   "execution_count": 37,
   "metadata": {},
   "outputs": [
    {
     "name": "stdout",
     "output_type": "stream",
     "text": [
      "[ 0.  0.  0.  0.  0.  0.  0.]\n",
      "rank 1 array shape: (7,) \n",
      "\n",
      "[[ 1.]\n",
      " [ 1.]\n",
      " [ 1.]\n",
      " [ 1.]\n",
      " [ 1.]\n",
      " [ 1.]]\n",
      "vector shape: (6, 1) \n",
      "\n",
      "[[ 0.  0.  0.  0.  0.]\n",
      " [ 0.  0.  0.  0.  0.]\n",
      " [ 0.  0.  0.  0.  0.]]\n",
      "matrix shape: (3, 5) \n",
      "\n"
     ]
    }
   ],
   "source": [
    "# np.zeros() / np.ones() \n",
    "# specifies a vector or matrix of zeros or ones, specify shape to avoid rank 1 arrays\n",
    "\n",
    "# rank 1 array, has shape of (x, ), can cause unwanted behavior\n",
    "rank1 = np.zeros(7)\n",
    "print(rank1)\n",
    "print(\"rank 1 array shape:\", rank1.shape, \"\\n\")\n",
    "\n",
    "vector = np.ones((6,1))\n",
    "print(vector)\n",
    "print(\"vector shape:\", vector.shape, \"\\n\")\n",
    "\n",
    "matrix = np.zeros((3, 5))\n",
    "print(matrix)\n",
    "print(\"matrix shape:\", matrix.shape, \"\\n\")"
   ]
  },
  {
   "cell_type": "code",
   "execution_count": 50,
   "metadata": {},
   "outputs": [
    {
     "name": "stdout",
     "output_type": "stream",
     "text": [
      "[[ 0.32353601  0.96435099  0.11422496  0.19594817]\n",
      " [ 0.16267106  0.84943052  0.51214856  0.23034307]] , shape: (2, 4) \n",
      "\n",
      "[[ 1.78841329  0.11274844 -0.19195476 -0.85443202]\n",
      " [-0.57391947  1.58584265  0.0926365  -0.51598246]\n",
      " [-0.34384272  0.78828842  0.68338206 -0.29420242]\n",
      " [-1.1491433  -1.87138553  0.65362135 -0.19999711]] , shape: (4, 4)\n"
     ]
    }
   ],
   "source": [
    "# np.random.rand() /np.random.randn() generates random numbers of a given distribution for a specified shape\n",
    "\n",
    "# normal distribution between 0-1\n",
    "rand1 = np.random.rand(2,4)\n",
    "print(rand1, \", shape:\", rand1.shape,\"\\n\")\n",
    "\n",
    "# normal distribution centered around 0\n",
    "rand2 = np.random.randn(4,4)\n",
    "print(rand2, \", shape:\", rand2.shape)\n",
    "\n",
    "\n"
   ]
  },
  {
   "cell_type": "code",
   "execution_count": 20,
   "metadata": {},
   "outputs": [
    {
     "name": "stdout",
     "output_type": "stream",
     "text": [
      "[[ 0.          0.6         0.8       ]\n",
      " [ 0.13736056  0.82416338  0.54944226]]\n"
     ]
    }
   ],
   "source": [
    "# np.linalg.norm()\n",
    "# normalizes each row of the matrix x (to have unit length)\n",
    "x = np.array([[\n",
    "    [0, 3, 4],\n",
    "    [1, 6, 4]]])\n",
    "x_norm = np.linalg.norm(x, ord=2, axis=1, keepdims=True)\n",
    "\n",
    "normalized = x / x_norm\n",
    "print(normalized)"
   ]
  },
  {
   "cell_type": "code",
   "execution_count": 39,
   "metadata": {},
   "outputs": [
    {
     "name": "stdout",
     "output_type": "stream",
     "text": [
      "np.dot(x.T, y)\n",
      "[[ 12  14  16  18  20]\n",
      " [ 24  28  32  36  40]\n",
      " [ 36  42  48  54  60]\n",
      " [ 48  56  64  72  80]\n",
      " [ 60  70  80  90 100]] \n",
      "\n",
      "np.dot(x, y.T)\n",
      "[[130 130]\n",
      " [130 130]]\n"
     ]
    }
   ],
   "source": [
    "#Transposing matrices/vectors with .T\n",
    "\n",
    "x = np.array([[1,2,3,4,5], [1, 2, 3, 4, 5]])\n",
    "y = np.array([[6,7,8,9,10], [6, 7, 8, 9, 10]])\n",
    "\n",
    "print(\"np.dot(x.T, y)\")\n",
    "print(np.dot(x.T, y), \"\\n\")\t# 5x2 x 2x5 = 5x5\n",
    "print(\"np.dot(x, y.T)\")\n",
    "print(np.dot(x, y.T))\t# 2x5 x 5x2 = 2x2"
   ]
  },
  {
   "cell_type": "code",
   "execution_count": null,
   "metadata": {
    "collapsed": true
   },
   "outputs": [],
   "source": []
  },
  {
   "cell_type": "code",
   "execution_count": 21,
   "metadata": {},
   "outputs": [
    {
     "name": "stdout",
     "output_type": "stream",
     "text": [
      "x_exp:  (2, 5)\n",
      "x_sum:  (2, 1)\n",
      "s:  (2, 5)\n"
     ]
    }
   ],
   "source": [
    "# softmax\n",
    "# converts vector to a value between 0,1\n",
    "\n",
    "x = np.array([\n",
    "[9, 2, 5, 0, 0],\n",
    "[7, 5, 0, 0 ,0]])\n",
    "\n",
    "x_exp = np.exp(x)\n",
    "print(\"x_exp: \", np.shape(x_exp))\n",
    "\n",
    "x_sum = np.sum(x_exp, axis = 1, keepdims = True)\n",
    "print(\"x_sum: \", np.shape(x_sum))\n",
    "\n",
    "# Compute softmax(x) by dividing x_exp by x_sum. It should automatically use numpy broadcasting.\n",
    "s = x_exp / x_sum\n",
    "print(\"s: \", np.shape(s))\n",
    "    \n",
    "    \n"
   ]
  },
  {
   "cell_type": "code",
   "execution_count": 22,
   "metadata": {
    "collapsed": true
   },
   "outputs": [],
   "source": [
    "# np.sum()"
   ]
  },
  {
   "cell_type": "code",
   "execution_count": null,
   "metadata": {
    "collapsed": true
   },
   "outputs": [],
   "source": [
    "# broadcasting"
   ]
  },
  {
   "cell_type": "code",
   "execution_count": 57,
   "metadata": {},
   "outputs": [
    {
     "name": "stdout",
     "output_type": "stream",
     "text": [
      "dot = 278\n",
      " ----- Computation time = 0.0ms\n",
      "outer = [[81 18 18 81  0 81 18 45  0  0 81 18 45  0  0]\n",
      " [18  4  4 18  0 18  4 10  0  0 18  4 10  0  0]\n",
      " [45 10 10 45  0 45 10 25  0  0 45 10 25  0  0]\n",
      " [ 0  0  0  0  0  0  0  0  0  0  0  0  0  0  0]\n",
      " [ 0  0  0  0  0  0  0  0  0  0  0  0  0  0  0]\n",
      " [63 14 14 63  0 63 14 35  0  0 63 14 35  0  0]\n",
      " [45 10 10 45  0 45 10 25  0  0 45 10 25  0  0]\n",
      " [ 0  0  0  0  0  0  0  0  0  0  0  0  0  0  0]\n",
      " [ 0  0  0  0  0  0  0  0  0  0  0  0  0  0  0]\n",
      " [ 0  0  0  0  0  0  0  0  0  0  0  0  0  0  0]\n",
      " [81 18 18 81  0 81 18 45  0  0 81 18 45  0  0]\n",
      " [18  4  4 18  0 18  4 10  0  0 18  4 10  0  0]\n",
      " [45 10 10 45  0 45 10 25  0  0 45 10 25  0  0]\n",
      " [ 0  0  0  0  0  0  0  0  0  0  0  0  0  0  0]\n",
      " [ 0  0  0  0  0  0  0  0  0  0  0  0  0  0  0]]\n",
      " ----- Computation time = 0.0ms\n",
      "\n",
      "\n",
      "elementwise multiplication = [81  4 10  0  0 63 10  0  0  0 81  4 25  0  0]\n",
      " ----- Computation time = 0.0ms\n",
      "gdot = [ 19.79874162  26.08104826  28.97845684]\n",
      " ----- Computation time = 0.0ms\n"
     ]
    }
   ],
   "source": [
    "x1 = [9, 2, 5, 0, 0, 7, 5, 0, 0, 0, 9, 2, 5, 0, 0]\n",
    "x2 = [9, 2, 2, 9, 0, 9, 2, 5, 0, 0, 9, 2, 5, 0, 0]\n",
    "W = np.random.rand(3,len(x1)) # Random 3*len(x1) numpy array\n",
    "\n",
    "### VECTORIZED DOT PRODUCT OF VECTORS ###\n",
    "tic = time.process_time()\n",
    "dot = np.dot(x1,x2)\n",
    "toc = time.process_time()\n",
    "print (\"dot = \" + str(dot) + \"\\n ----- Computation time = \" + str(1000*(toc - tic)) + \"ms\")\n",
    "\n",
    "### VECTORIZED OUTER PRODUCT ###\n",
    "tic = time.process_time()\n",
    "outer = np.outer(x1,x2)\n",
    "toc = time.process_time()\n",
    "print (\"outer = \" + str(outer) + \"\\n ----- Computation time = \" + str(1000*(toc - tic)) + \"ms\")\n",
    "print(\"\\n\")\n",
    "### VECTORIZED ELEMENTWISE MULTIPLICATION ###\n",
    "tic = time.process_time()\n",
    "mul = np.multiply(x1,x2)\n",
    "toc = time.process_time()\n",
    "print (\"elementwise multiplication = \" + str(mul) + \"\\n ----- Computation time = \" + str(1000*(toc - tic)) + \"ms\")\n",
    "\n",
    "### VECTORIZED GENERAL DOT PRODUCT ###\n",
    "tic = time.process_time()\n",
    "dot = np.dot(W,x1)\n",
    "toc = time.process_time()\n",
    "print (\"gdot = \" + str(dot) + \"\\n ----- Computation time = \" + str(1000*(toc - tic)) + \"ms\")"
   ]
  },
  {
   "cell_type": "code",
   "execution_count": null,
   "metadata": {
    "collapsed": true
   },
   "outputs": [],
   "source": []
  },
  {
   "cell_type": "code",
   "execution_count": null,
   "metadata": {
    "collapsed": true
   },
   "outputs": [],
   "source": []
  }
 ],
 "metadata": {
  "kernelspec": {
   "display_name": "Python 3",
   "language": "python",
   "name": "python3"
  },
  "language_info": {
   "codemirror_mode": {
    "name": "ipython",
    "version": 3
   },
   "file_extension": ".py",
   "mimetype": "text/x-python",
   "name": "python",
   "nbconvert_exporter": "python",
   "pygments_lexer": "ipython3",
   "version": "3.6.1"
  }
 },
 "nbformat": 4,
 "nbformat_minor": 2
}
