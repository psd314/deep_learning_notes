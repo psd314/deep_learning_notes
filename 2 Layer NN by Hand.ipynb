{
 "cells": [
  {
   "cell_type": "code",
   "execution_count": 1,
   "metadata": {
    "collapsed": true
   },
   "outputs": [],
   "source": [
    "import numpy as np\n",
    "import random"
   ]
  },
  {
   "cell_type": "code",
   "execution_count": 8,
   "metadata": {},
   "outputs": [
    {
     "name": "stdout",
     "output_type": "stream",
     "text": [
      "X: [[3]\n",
      " [5]\n",
      " [7]]\n",
      "Y: [[1]]\n",
      "W1:\n",
      " [[-0.0238252  -0.00145192  0.02906031]\n",
      " [-0.01620661  0.0126301  -0.0043321 ]\n",
      " [ 0.00673367 -0.00266045  0.01863142]\n",
      " [ 0.00314836 -0.00410666 -0.01961408]]\n",
      "b1:\n",
      " [[ 0.]\n",
      " [ 0.]\n",
      " [ 0.]\n",
      " [ 0.]]\n",
      "W2:\n",
      " [[ 0.00588104  0.00417777  0.00675327 -0.00719804]]\n",
      "b2: [[ 0.]]\n"
     ]
    }
   ],
   "source": [
    "#Initialize values\n",
    "X = np.array([[3], [5], [7]])\n",
    "Y = np.array([[1]])\n",
    "\n",
    "W1 = np.random.randn(4, 3) * .01\n",
    "b1 = np.zeros((4, 1))\n",
    "\n",
    "W2 = np.random.randn(1, 4) * .01\n",
    "b2 = np.zeros((1,1))\n",
    "\n",
    "print(\"X:\", X)\n",
    "print(\"Y:\", Y)\n",
    "print(\"W1:\\n\", W1)\n",
    "print(\"b1:\\n\", b1)\n",
    "print(\"W2:\\n\", W2)\n",
    "print(\"b2:\", b2)"
   ]
  },
  {
   "cell_type": "code",
   "execution_count": 11,
   "metadata": {},
   "outputs": [
    {
     "name": "stdout",
     "output_type": "stream",
     "text": [
      "Z1:\n",
      " [[ 0.12468696]\n",
      " [-0.01579403]\n",
      " [ 0.13731876]\n",
      " [-0.14838678]]\n",
      "A1:\n",
      " [[ 0.12404479]\n",
      " [-0.01579271]\n",
      " [ 0.13646211]\n",
      " [-0.14730719]]\n",
      "Z2: [[ 0.00264542]]\n",
      "A2: [[ 0.50066136]]\n"
     ]
    }
   ],
   "source": [
    "#Forward Propagation\n",
    "Z1 = np.dot(W1, X) + b1 # 4x3 . 3x1 = 4x1\n",
    "A1 = np.tanh(Z1) # 4x1\n",
    "Z2 = np.dot(W2, A1) + b2 # 1x1\n",
    "A2 = 1 / (1 + np.exp(-Z2)) # sigmoid activation function - 1x1\n",
    "\n",
    "print(\"Z1:\\n\", Z1)\n",
    "print(\"A1:\\n\", A1)\n",
    "print(\"Z2:\", Z2)\n",
    "print(\"A2:\", A2)"
   ]
  },
  {
   "cell_type": "code",
   "execution_count": 14,
   "metadata": {},
   "outputs": [
    {
     "name": "stdout",
     "output_type": "stream",
     "text": [
      "m: 1\n",
      "cost: 0.691825343897\n"
     ]
    }
   ],
   "source": [
    "m = X.shape[1]\n",
    "\n",
    "cost = (-1/m) * np.sum(np.multiply(np.log(A2), Y) - np.multiply(np.log(1-A2), 1-Y))\n",
    "print(\"m:\", m)\n",
    "print(\"cost:\", cost)"
   ]
  },
  {
   "cell_type": "code",
   "execution_count": 18,
   "metadata": {},
   "outputs": [
    {
     "name": "stdout",
     "output_type": "stream",
     "text": [
      "dZ2: [[-0.49933864]]\n",
      "dW2: [[-0.06194036  0.00788591 -0.06814081  0.07355617]]\n",
      "db2: [[-0.49933864]]\n",
      "dZ1:\n",
      " [[-0.00289145]\n",
      " [-0.0020856 ]\n",
      " [-0.00330937]\n",
      " [ 0.00351627]]\n",
      "dW1:\n",
      " [[-0.00867434 -0.01445723 -0.02024012]\n",
      " [-0.00625681 -0.01042801 -0.01459922]\n",
      " [-0.00992812 -0.01654686 -0.02316561]\n",
      " [ 0.0105488   0.01758133  0.02461386]]\n",
      "db1:\n",
      " -0.00477015518275\n"
     ]
    }
   ],
   "source": [
    "# Back Propagation\n",
    "\n",
    "dZ2 = A2 - Y\n",
    "dW2 = (1/m) * np.dot(dZ2, A1.T)\n",
    "db2 = (1/m) * np.sum(dZ2, axis=1, keepdims=True)\n",
    "dZ1 = np.dot(W2.T, dZ2) * (1 - np.power(A1, 2))\n",
    "dW1 = (1/m) * (np.dot(dZ1, X.T))\n",
    "db1 = (1/m) * np.sum(dZ1)\n",
    "\n",
    "print(\"dZ2:\", dZ2)\n",
    "print(\"dW2:\", dW2)\n",
    "print(\"db2:\", db2)\n",
    "print(\"dZ1:\\n\", dZ1)\n",
    "print(\"dW1:\\n\", dW1)\n",
    "print(\"db1:\\n\", db1)"
   ]
  },
  {
   "cell_type": "code",
   "execution_count": 21,
   "metadata": {},
   "outputs": [
    {
     "name": "stdout",
     "output_type": "stream",
     "text": [
      "W1:\n",
      " [[ -2.12228961e-02   2.88525093e-03   3.51323427e-02]\n",
      " [ -1.43295678e-02   1.57585001e-02   4.76681609e-05]\n",
      " [  9.71210770e-03   2.30361336e-03   2.55811070e-02]\n",
      " [ -1.62746255e-05  -9.38105463e-03  -2.69982427e-02]]\n",
      "b1:\n",
      " [[ 0.00143105]\n",
      " [ 0.00143105]\n",
      " [ 0.00143105]\n",
      " [ 0.00143105]]\n",
      "W2: [[ 0.02446315  0.001812    0.02719551 -0.02926489]]\n",
      "b2: [[ 0.14980159]]\n"
     ]
    }
   ],
   "source": [
    "# update parameters\n",
    "alpha = .1 #learning rate\n",
    "W1 = W1 - alpha * dW1\n",
    "b1 = b1 - alpha * db1\n",
    "W2 = W2 - alpha * dW2\n",
    "b2 = b2 - alpha * db2\n",
    "\n",
    "print(\"W1:\\n\", W1)\n",
    "print(\"b1:\\n\", b1)\n",
    "print(\"W2:\", W2)\n",
    "print(\"b2:\", b2)"
   ]
  },
  {
   "cell_type": "code",
   "execution_count": null,
   "metadata": {
    "collapsed": true
   },
   "outputs": [],
   "source": []
  }
 ],
 "metadata": {
  "kernelspec": {
   "display_name": "Python 3",
   "language": "python",
   "name": "python3"
  },
  "language_info": {
   "codemirror_mode": {
    "name": "ipython",
    "version": 3
   },
   "file_extension": ".py",
   "mimetype": "text/x-python",
   "name": "python",
   "nbconvert_exporter": "python",
   "pygments_lexer": "ipython3",
   "version": "3.6.1"
  }
 },
 "nbformat": 4,
 "nbformat_minor": 2
}
